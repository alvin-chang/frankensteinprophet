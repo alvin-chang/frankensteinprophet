{
 "cells": [
  {
   "cell_type": "code",
   "execution_count": null,
   "metadata": {},
   "outputs": [],
   "source": [
    "import pandas as pd\n",
    "import numpy as np\n",
    "import yfinance as yf\n",
    "from fbprophet import Prophet\n",
    "from fbprophet.plot import add_changepoints_to_plot\n",
    "from multiprocessing import Pool, cpu_count\n",
    "import multiprocessing as mp\n",
    "from datetime import date,timedelta\n",
    "import time as t\n",
    "import matplotlib.pyplot as plt\n",
    "\n",
    "from sklearn.metrics import mean_squared_error, r2_score, mean_absolute_error\n",
    "\n",
    "%matplotlib inline\n",
    " \n",
    "plt.rcParams['figure.figsize']=(20,10)\n",
    "plt.style.use('ggplot')"
   ]
  },
  {
   "cell_type": "code",
   "execution_count": null,
   "metadata": {},
   "outputs": [],
   "source": [
    "market_dfset = {}\n",
    "dfset = {}\n",
    "modelset = {}\n",
    "futureset = {}\n",
    "forecastset = {}\n",
    "figureset = {}\n",
    "legendset = {}\n",
    "tickers = []\n",
    "\n",
    "def run_prophet(ticker,market_dfset,modelset,forecastset):\n",
    "    print(ticker)\n",
    "    market_df = yf.Ticker(ticker).history(period=\"max\")\n",
    "    df = market_df.reset_index().rename(columns={'Date':'ds', 'Close':'y'})\n",
    "    df['y'] = np.log(df['y'])\n",
    "    model = Prophet(daily_seasonality=False,weekly_seasonality=False,yearly_seasonality=20)\n",
    "    model.fit(df)\n",
    "    future = model.make_future_dataframe(periods=365) #forecasting for 1 year from now.\n",
    "    forecast = model.predict(future) \n",
    "    modelset[ticker] = model\n",
    "    market_dfset[ticker] = market_df\n",
    "    forecastset[ticker] = forecast\n",
    "\n",
    "#get file object\n",
    "f = open(\"list\", \"r\")\n",
    "\n",
    "while(True):\n",
    "    #read next line\n",
    "    line = f.readline()\n",
    "    #if line is empty, you are done with all lines in the file\n",
    "    if not line:\n",
    "        break\n",
    "    #you can access the line\n",
    "    tickers.append(line.strip())\n",
    "\n",
    "#close file\n",
    "f.close()\n",
    "\n",
    "manager = mp.Manager()\n",
    "market_dfset=manager.dict()\n",
    "modelset=manager.dict()\n",
    "forecastset=manager.dict()\n",
    "\n",
    "p = {}\n",
    "for ticker in tickers:\n",
    "    p[ticker]= mp.Process(target=run_prophet,args=(ticker,market_dfset,modelset,forecastset))\n",
    "    \n",
    "l = len(tickers)\n",
    "for i in range(0, l, cpu_count()):\n",
    "    for j in range(0,cpu_count()):\n",
    "        if (i+j<l): p[tickers[i+j]].start()\n",
    "    for j in range(0,cpu_count()):\n",
    "        if (i+j<l): p[tickers[i+j]].join()\n",
    "\n",
    "for ticker in tickers:\n",
    "    figureset[ticker] = market_dfset[ticker][\"Close\"].plot()\n",
    "    legendset[ticker]=figureset[ticker].legend() #get the legend\n",
    "    legendset[ticker].get_texts()[0].set_text(ticker) #change the legend text\n",
    "    plt.show()"
   ]
  },
  {
   "cell_type": "code",
   "execution_count": null,
   "metadata": {},
   "outputs": [],
   "source": [
    "for ticker in tickers:\n",
    "    print(ticker)\n",
    "    print(forecastset[ticker][['ds', 'yhat', 'yhat_lower', 'yhat_upper']].tail(n=30))\n",
    "    figure=modelset[ticker].plot(forecastset[ticker])  \n",
    "    fig = modelset[ticker].plot(forecastset[ticker])\n",
    "    a = add_changepoints_to_plot(fig.gca(), modelset[ticker], forecastset[ticker])\n",
    "    figure2=modelset[ticker].plot_components(forecastset[ticker])\n",
    "    plt.show()\n",
    "    print('\\n')"
   ]
  },
  {
   "cell_type": "markdown",
   "metadata": {},
   "source": [
    "# Plotting the forecast"
   ]
  },
  {
   "cell_type": "code",
   "execution_count": null,
   "metadata": {},
   "outputs": [],
   "source": [
    "two_yearset = {}"
   ]
  },
  {
   "cell_type": "markdown",
   "metadata": {},
   "source": [
    "With the data that we have, it is hard to see how good/bad the forecast (blue line) is compared to the actual data (black dots).  Let's take a look at the last 800 data points (~2 years) of forecast vs actual without looking at the future forecast (because we are just interested in getting a visual of the error between actual vs forecast)."
   ]
  },
  {
   "cell_type": "code",
   "execution_count": null,
   "metadata": {},
   "outputs": [],
   "source": [
    "for ticker in tickers:\n",
    "    two_yearset[ticker] = forecastset[ticker].set_index('ds').join(market_dfset[ticker])\n",
    "    two_yearset[ticker] = two_yearset[ticker][['Close', 'yhat', 'yhat_upper', 'yhat_lower' ]].dropna().tail(800)\n",
    "    two_yearset[ticker]['yhat']=np.exp(two_yearset[ticker].yhat)\n",
    "    two_yearset[ticker]['yhat_upper']=np.exp(two_yearset[ticker].yhat_upper)\n",
    "    two_yearset[ticker]['yhat_lower']=np.exp(two_yearset[ticker].yhat_lower)\n",
    "    two_yearset[ticker].tail()\n",
    "    figureset[ticker]=two_yearset[ticker][['Close', 'yhat']].plot()\n",
    "    figureset[ticker].plot(two_yearset[ticker].yhat_upper, color='black',  linestyle=':', alpha=0.5)\n",
    "    figureset[ticker].plot(two_yearset[ticker].yhat_lower, color='black',  linestyle=':', alpha=0.5)\n",
    "    figureset[ticker].set_title('Actual (Orange) vs Forecasted Upper & Lower Confidence (Black)')\n",
    "    figureset[ticker].set_ylabel('Price')\n",
    "    figureset[ticker].set_xlabel('Date')\n",
    "    legendset[ticker]=figureset[ticker].legend() #get the legend\n",
    "    legendset[ticker].get_texts()[0].set_text(ticker) #change the legend text\n",
    "    plt.show()"
   ]
  },
  {
   "cell_type": "code",
   "execution_count": null,
   "metadata": {},
   "outputs": [],
   "source": [
    "two_years_AE_set = {}\n",
    "for ticker in tickers:\n",
    "    two_years_AE_set[ticker] = (two_yearset[ticker].yhat - two_yearset[ticker].Close)\n",
    "    print(ticker)\n",
    "    print(two_years_AE_set[ticker].describe())\n",
    "    print(\"R2 score: \",r2_score(two_yearset[ticker].Close, two_yearset[ticker].yhat))\n",
    "    print(\"MSE score: \",mean_squared_error(two_yearset[ticker].Close, two_yearset[ticker].yhat))\n",
    "    print(\"MAE score: \",mean_absolute_error(two_yearset[ticker].Close, two_yearset[ticker].yhat))\n",
    "    print('\\n')"
   ]
  },
  {
   "cell_type": "code",
   "execution_count": null,
   "metadata": {},
   "outputs": [],
   "source": [
    "full_dfset = {}\n",
    "for ticker in tickers:\n",
    "    full_dfset[ticker] = forecastset[ticker].set_index('ds').join(market_dfset[ticker])\n",
    "    full_dfset[ticker]['yhat']=np.exp(full_dfset[ticker]['yhat'])"
   ]
  },
  {
   "cell_type": "code",
   "execution_count": null,
   "metadata": {},
   "outputs": [],
   "source": [
    "for ticker in tickers:\n",
    "    fig, ax1 = plt.subplots()\n",
    "    n=395\n",
    "    ax1.plot(full_dfset[ticker].tail(n).Close)\n",
    "    ax1.plot(full_dfset[ticker].tail(n).yhat, color='black', linestyle=':')\n",
    "    ax1.fill_between(full_dfset[ticker].tail(n).index, np.exp(full_dfset[ticker]['yhat_upper'].tail(n)), np.exp(full_dfset[ticker]['yhat_lower'].tail(n)), alpha=0.5, color='darkgray')\n",
    "    ax1.set_title(ticker)\n",
    "    ax1.set_ylabel('Price')\n",
    "    ax1.set_xlabel('Date')\n",
    "    plt.show()\n",
    "\n",
    "    n=370\n",
    "    d=35\n",
    "    fig2, ax2 = plt.subplots()\n",
    "    ax2.plot(full_dfset[ticker][full_dfset[ticker].last_valid_index()-pd.DateOffset(n, 'D'):full_dfset[ticker].last_valid_index()-pd.DateOffset(n-d, 'D')].Close)\n",
    "    ax2.plot(full_dfset[ticker][full_dfset[ticker].last_valid_index()-pd.DateOffset(n, 'D'):full_dfset[ticker].last_valid_index()-pd.DateOffset(n-d, 'D')].yhat, color='black', linestyle=':')\n",
    "    ax2.fill_between(full_dfset[ticker][full_dfset[ticker].last_valid_index()-pd.DateOffset(n, 'D'):full_dfset[ticker].last_valid_index()-pd.DateOffset(n-d, 'D')].index, np.exp(full_dfset[ticker][full_dfset[ticker].last_valid_index()-pd.DateOffset(n, 'D'):full_dfset[ticker].last_valid_index()-pd.DateOffset(n-d, 'D')]['yhat_upper']), np.exp(full_dfset[ticker][full_dfset[ticker].last_valid_index()-pd.DateOffset(n, 'D'):full_dfset[ticker].last_valid_index()-pd.DateOffset(n-d, 'D')]['yhat_lower']), alpha=0.5, color='darkgray')\n",
    "    ax2.set_title(ticker)\n",
    "    ax2.set_ylabel('Price')\n",
    "    ax2.set_xlabel('Date')\n",
    "\n",
    "    pd.merge(full_dfset[ticker]['yhat'].tail(n=365), pd.merge(np.exp(full_dfset[ticker]['yhat_upper'].tail(n=365)), np.exp(full_dfset[ticker]['yhat_lower'].tail(n=365)),on='ds'),on='ds').to_csv(ticker+'-365Days.csv')"
   ]
  },
  {
   "cell_type": "code",
   "execution_count": null,
   "metadata": {},
   "outputs": [],
   "source": []
  }
 ],
 "metadata": {
  "kernelspec": {
   "display_name": "Python 3",
   "language": "python",
   "name": "python3"
  },
  "language_info": {
   "codemirror_mode": {
    "name": "ipython",
    "version": 3
   },
   "file_extension": ".py",
   "mimetype": "text/x-python",
   "name": "python",
   "nbconvert_exporter": "python",
   "pygments_lexer": "ipython3",
   "version": "3.8.6"
  }
 },
 "nbformat": 4,
 "nbformat_minor": 4
}
