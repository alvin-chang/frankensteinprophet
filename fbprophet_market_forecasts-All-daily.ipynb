{
 "cells": [
  {
   "cell_type": "code",
   "execution_count": null,
   "metadata": {},
   "outputs": [],
   "source": [
    "import pandas as pd\n",
    "import numpy as np\n",
    "import yfinance as yf\n",
    "from fbprophet import Prophet\n",
    "from fbprophet.plot import add_changepoints_to_plot\n",
    "import multiprocessing as mp\n",
    "from datetime import date,timedelta\n",
    "import time as t\n",
    "import matplotlib.pyplot as plt\n",
    "import defs\n",
    "\n",
    "from sklearn.metrics import mean_squared_error, r2_score, mean_absolute_error\n",
    "\n",
    "%matplotlib inline\n",
    " \n",
    "plt.rcParams['figure.figsize']=(20,10)\n",
    "plt.style.use('ggplot')"
   ]
  },
  {
   "cell_type": "code",
   "execution_count": null,
   "metadata": {},
   "outputs": [],
   "source": [
    "market_dfset = {}\n",
    "dfset = {}\n",
    "modelset = {}\n",
    "futureset = {}\n",
    "forecastset = {}\n",
    "figureset = {}\n",
    "legendset = {}\n",
    "tickers = []\n",
    "\n",
    "manager = mp.Manager()\n",
    "tickers = manager.list()\n",
    "\n",
    "#get file object\n",
    "f = open(\"list\", \"r\")\n",
    "\n",
    "while(True):\n",
    "    #read next line\n",
    "    line = f.readline()\n",
    "    #if line is empty, you are done with all lines in the file\n",
    "    if not line:\n",
    "        break\n",
    "    #you can access the line\n",
    "    tickers.append(line.strip())\n",
    "\n",
    "#close file\n",
    "f.close()\n",
    "\n",
    "market_dfset=manager.dict()\n",
    "modelset=manager.dict()\n",
    "forecastset=manager.dict()\n",
    "\n",
    "p = {}\n",
    "for ticker in tickers:\n",
    "    p[ticker]= mp.Process(target=defs.run_prophet_daily,args=(tickers,ticker,market_dfset,modelset,forecastset))\n",
    "    \n",
    "l = len(tickers)\n",
    "c = mp.cpu_count()\n",
    "for i in range(0, l, c):\n",
    "    for j in range(0,c):\n",
    "        if (i+j<l):\n",
    "            p[tickers[i+j]].start()\n",
    "    for j in range(0,c):\n",
    "        if (i+j<l):\n",
    "            p[tickers[i+j]].join()"
   ]
  },
  {
   "cell_type": "code",
   "execution_count": null,
   "metadata": {},
   "outputs": [],
   "source": [
    "for ticker in tickers:\n",
    "    print(ticker)\n",
    "    figureset[ticker] = market_dfset[ticker][\"Close\"].plot()\n",
    "    legendset[ticker]=figureset[ticker].legend() #get the legend\n",
    "    legendset[ticker].get_texts()[0].set_text(ticker) #change the legend text\n",
    "    plt.show()\n",
    "    \n",
    "for ticker in tickers:\n",
    "    print(ticker)\n",
    "    print(forecastset[ticker][['ds', 'yhat', 'yhat_lower', 'yhat_upper']].tail(n=30))\n",
    "    figure=modelset[ticker].plot(forecastset[ticker])  \n",
    "    fig = modelset[ticker].plot(forecastset[ticker])\n",
    "    a = add_changepoints_to_plot(fig.gca(), modelset[ticker], forecastset[ticker])\n",
    "    figure2=modelset[ticker].plot_components(forecastset[ticker])\n",
    "    plt.show()\n",
    "    print('\\n')"
   ]
  },
  {
   "cell_type": "markdown",
   "metadata": {},
   "source": [
    "# Plotting the forecast"
   ]
  },
  {
   "cell_type": "code",
   "execution_count": null,
   "metadata": {},
   "outputs": [],
   "source": [
    "two_yearset = {}"
   ]
  },
  {
   "cell_type": "markdown",
   "metadata": {},
   "source": [
    "With the data that we have, it is hard to see how good/bad the forecast (blue line) is compared to the actual data (black dots).  Let's take a look at the last 800 data points (~2 years) of forecast vs actual without looking at the future forecast (because we are just interested in getting a visual of the error between actual vs forecast)."
   ]
  },
  {
   "cell_type": "code",
   "execution_count": null,
   "metadata": {},
   "outputs": [],
   "source": [
    "for ticker in tickers:\n",
    "    two_yearset[ticker] = forecastset[ticker].set_index('ds').join(market_dfset[ticker])\n",
    "    two_yearset[ticker] = two_yearset[ticker][['Close', 'yhat', 'yhat_upper', 'yhat_lower' ]].dropna()\n",
    "    two_yearset[ticker]['yhat']=np.exp(two_yearset[ticker].yhat)\n",
    "    two_yearset[ticker]['yhat_upper']=np.exp(two_yearset[ticker].yhat_upper)\n",
    "    two_yearset[ticker]['yhat_lower']=np.exp(two_yearset[ticker].yhat_lower)\n",
    "    two_yearset[ticker].tail()\n",
    "    figureset[ticker]=two_yearset[ticker][['Close', 'yhat']].plot()\n",
    "    figureset[ticker].plot(two_yearset[ticker].yhat_upper, color='black',  linestyle=':', alpha=0.5)\n",
    "    figureset[ticker].plot(two_yearset[ticker].yhat_lower, color='black',  linestyle=':', alpha=0.5)\n",
    "    figureset[ticker].set_title('Actual (Orange) vs Forecasted Upper & Lower Confidence (Black)')\n",
    "    figureset[ticker].set_ylabel('Price')\n",
    "    figureset[ticker].set_xlabel('Date')\n",
    "    legendset[ticker]=figureset[ticker].legend() #get the legend\n",
    "    legendset[ticker].get_texts()[0].set_text(ticker) #change the legend text\n",
    "    plt.show()"
   ]
  },
  {
   "cell_type": "code",
   "execution_count": null,
   "metadata": {},
   "outputs": [],
   "source": [
    "two_years_AE_set = {}\n",
    "for ticker in tickers:\n",
    "    two_years_AE_set[ticker] = (two_yearset[ticker].yhat - two_yearset[ticker].Close)\n",
    "    print(ticker)\n",
    "    print(two_years_AE_set[ticker].describe())\n",
    "    print(\"R2 score: \",r2_score(two_yearset[ticker].Close, two_yearset[ticker].yhat))\n",
    "    print(\"MSE score: \",mean_squared_error(two_yearset[ticker].Close, two_yearset[ticker].yhat))\n",
    "    print(\"MAE score: \",mean_absolute_error(two_yearset[ticker].Close, two_yearset[ticker].yhat))\n",
    "    print('\\n')"
   ]
  },
  {
   "cell_type": "code",
   "execution_count": null,
   "metadata": {},
   "outputs": [],
   "source": [
    "full_dfset = {}\n",
    "for ticker in tickers:\n",
    "    full_dfset[ticker] = forecastset[ticker].set_index('ds').join(market_dfset[ticker])\n",
    "    full_dfset[ticker]['yhat']=np.exp(full_dfset[ticker]['yhat'])"
   ]
  },
  {
   "cell_type": "code",
   "execution_count": null,
   "metadata": {},
   "outputs": [],
   "source": [
    "for ticker in tickers:\n",
    "    print(ticker)\n",
    "    fig, ax1 = plt.subplots()\n",
    "    n = -1\n",
    "    ax1.plot(full_dfset[ticker].between_time('09:30','16:00')[full_dfset[ticker].last_valid_index()+pd.DateOffset(n, 'D'):].Close)\n",
    "    ax1.plot(full_dfset[ticker].between_time('09:30','16:00')[full_dfset[ticker].last_valid_index()+pd.DateOffset(n, 'D'):].yhat, color='black', linestyle=':')\n",
    "    ax1.fill_between(full_dfset[ticker].between_time('09:30','16:00')[full_dfset[ticker].last_valid_index()+pd.DateOffset(n, 'D'):].index, np.exp(full_dfset[ticker].between_time('09:30','16:00')['yhat_upper'][full_dfset[ticker].last_valid_index()+pd.DateOffset(n, 'D'):]), np.exp(full_dfset[ticker].between_time('09:30','16:00')['yhat_lower'][full_dfset[ticker].last_valid_index()+pd.DateOffset(n, 'D'):]), alpha=0.5, color='darkgray')\n",
    "    ax1.set_title('Actual (Orange) vs Forecasted (Black) with Confidence Bands')\n",
    "    ax1.set_ylabel('Price')\n",
    "    ax1.set_xlabel('Date')\n",
    "    plt.show()\n",
    "\n",
    "    fig2, ax2 = plt.subplots()\n",
    "    n = -1\n",
    "    ax2.plot(full_dfset[ticker].between_time('09:30','16:00')[full_dfset[ticker].last_valid_index()+pd.DateOffset(n, 'D'):full_dfset[ticker].last_valid_index()+pd.DateOffset(n, 'D')+pd.DateOffset(1,'D')].Close)\n",
    "    ax2.plot(full_dfset[ticker].between_time('09:30','16:00')[full_dfset[ticker].last_valid_index()+pd.DateOffset(n, 'D'):full_dfset[ticker].last_valid_index()+pd.DateOffset(n, 'D')+pd.DateOffset(1,'D')].yhat, color='black', linestyle=':')\n",
    "    ax2.fill_between(full_dfset[ticker].between_time('09:30','16:00')[full_dfset[ticker].last_valid_index()+pd.DateOffset(n, 'D'):full_dfset[ticker].last_valid_index()+pd.DateOffset(n, 'D')+pd.DateOffset(1,'D')].index, np.exp(full_dfset[ticker].between_time('09:30','16:00')['yhat_upper'][full_dfset[ticker].last_valid_index()+pd.DateOffset(n, 'D'):full_dfset[ticker].last_valid_index()+pd.DateOffset(n, 'D')+pd.DateOffset(1,'D')]), np.exp(full_dfset[ticker].between_time('09:30','16:00')['yhat_lower'][full_dfset[ticker].last_valid_index()+pd.DateOffset(n, 'D'):full_dfset[ticker].last_valid_index()+pd.DateOffset(n, 'D')+pd.DateOffset(1,'D')]), alpha=0.5, color='darkgray')\n",
    "    ax2.set_title('Actual (Orange) vs Forecasted (Black) with Confidence Bands')\n",
    "    ax2.set_ylabel('Price')\n",
    "    ax2.set_xlabel('Date')\n",
    "    plt.show()\n",
    "\n",
    "    fig3, ax3 = plt.subplots()\n",
    "    n = 0\n",
    "    ax3.plot(full_dfset[ticker].between_time('09:30','16:00')[full_dfset[ticker].last_valid_index()+pd.DateOffset(n, 'D'):].Close)\n",
    "    ax3.plot(full_dfset[ticker].between_time('09:30','16:00')[full_dfset[ticker].last_valid_index()+pd.DateOffset(n, 'D'):].yhat, color='black', linestyle=':')\n",
    "    ax3.fill_between(full_dfset[ticker].between_time('09:30','16:00')[full_dfset[ticker].last_valid_index()+pd.DateOffset(n, 'D'):].index, np.exp(full_dfset[ticker].between_time('09:30','16:00')['yhat_upper'][full_dfset[ticker].last_valid_index()+pd.DateOffset(n, 'D'):]), np.exp(full_dfset[ticker].between_time('09:30','16:00')['yhat_lower'][full_dfset[ticker].last_valid_index()+pd.DateOffset(n, 'D'):]), alpha=0.5, color='darkgray')\n",
    "    ax3.set_title('Actual (Orange) vs Forecasted (Black) with Confidence Bands')\n",
    "    ax3.set_ylabel('Price')\n",
    "    ax3.set_xlabel('Date')\n",
    "    plt.show()\n",
    "\n",
    "    n = -1\n",
    "    today = full_dfset[ticker].between_time('09:30','16:00')[full_dfset[ticker].last_valid_index()+pd.DateOffset(n, 'D'):].Close\n",
    "    print(\"Today: Highest\", today.nlargest(1))\n",
    "    print(\"Today: Lowest\", today.nsmallest(1))\n",
    "    n = 0\n",
    "    tomorrow = pd.merge(full_dfset[ticker].between_time('09:30','16:00')[full_dfset[ticker].last_valid_index()+pd.DateOffset(n, 'D'):]['yhat'], pd.merge(np.exp(full_dfset[ticker].between_time('09:30','16:00')[full_dfset[ticker].last_valid_index()+pd.DateOffset(n, 'D'):]['yhat_upper']), np.exp(full_dfset[ticker].between_time('09:30','16:00')[full_dfset[ticker].last_valid_index()+pd.DateOffset(n, 'D'):]['yhat_lower']),on='ds'),on='ds')\n",
    "    print(\"Tomorrow: Highest Upper\", tomorrow['yhat_upper'].nlargest(1))\n",
    "    print(\"Tomorrow: Highest\", tomorrow['yhat'].nlargest(1))\n",
    "    print(\"Tomorrow: Lowest\", tomorrow['yhat'].nsmallest(1))\n",
    "    print(\"Tomorrow: Lowest Lower\", tomorrow['yhat_lower'].nsmallest(1))\n",
    "    print('\\n')\n",
    "    pd.merge(today,tomorrow,left_index=True,right_index=True).to_csv(ticker+'-daily-1Days.csv')"
   ]
  },
  {
   "cell_type": "code",
   "execution_count": null,
   "metadata": {},
   "outputs": [],
   "source": []
  }
 ],
 "metadata": {
  "kernelspec": {
   "display_name": "Python 3",
   "language": "python",
   "name": "python3"
  },
  "language_info": {
   "codemirror_mode": {
    "name": "ipython",
    "version": 3
   },
   "file_extension": ".py",
   "mimetype": "text/x-python",
   "name": "python",
   "nbconvert_exporter": "python",
   "pygments_lexer": "ipython3",
   "version": "3.8.7"
  }
 },
 "nbformat": 4,
 "nbformat_minor": 4
}
