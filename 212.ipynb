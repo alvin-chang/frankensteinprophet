{
 "cells": [
  {
   "cell_type": "code",
   "execution_count": null,
   "id": "cosmetic-ladder",
   "metadata": {},
   "outputs": [],
   "source": [
    "# Import pandas \n",
    "import pandas as pd\n",
    "\n",
    "import plotly.express as px\n",
    "\n",
    "pd.options.plotting.backend = \"plotly\""
   ]
  },
  {
   "cell_type": "code",
   "execution_count": null,
   "id": "limiting-wallpaper",
   "metadata": {},
   "outputs": [],
   "source": [
    "sell = pd.DataFrame()\n",
    "\n",
    "# reading csv file  \n",
    "df = pd.read_csv(\"212.csv\",parse_dates=['Time'],index_col='Time')\n",
    "for i in range(0,len(df)):\n",
    "    if (df[i:i+1]['Action'] == 'Market sell').bool():\n",
    "        sell = sell.append(df[i:i+1])\n",
    "    elif (df[i:i+1]['Action'] == 'Limit sell').bool():\n",
    "        sell = sell.append(df[i:i+1])\n",
    "df = sell.resample('D').sum()"
   ]
  },
  {
   "cell_type": "code",
   "execution_count": null,
   "id": "pregnant-transportation",
   "metadata": {},
   "outputs": [],
   "source": [
    "df['Cost (GBP)'] = df['Total (GBP)'] - df['Result (GBP)']\n",
    "df['Accumulated Return (GBP)'] = df['Result (GBP)'].cumsum()\n",
    "df['Accumulated Cost (GBP)'] = df['Cost (GBP)'].cumsum()\n",
    "df['Return (%)'] = df['Result (GBP)'] / df['Cost (GBP)'] * 100\n",
    "df['Accumulated Return (%)'] = df['Accumulated Return (GBP)'] / df['Accumulated Cost (GBP)'] * 100"
   ]
  },
  {
   "cell_type": "code",
   "execution_count": null,
   "id": "cosmetic-accreditation",
   "metadata": {},
   "outputs": [],
   "source": [
    "df['Accumulated Return (%)'].plot()"
   ]
  },
  {
   "cell_type": "code",
   "execution_count": null,
   "id": "spoken-bahamas",
   "metadata": {},
   "outputs": [],
   "source": [
    "df['Accumulated Return (GBP)'].plot()"
   ]
  },
  {
   "cell_type": "code",
   "execution_count": null,
   "id": "applicable-matter",
   "metadata": {},
   "outputs": [],
   "source": [
    "df.plot.bar(y=['Result (GBP)','Cost (GBP)'])"
   ]
  },
  {
   "cell_type": "code",
   "execution_count": null,
   "id": "multiple-circuit",
   "metadata": {},
   "outputs": [],
   "source": []
  }
 ],
 "metadata": {
  "kernelspec": {
   "display_name": "Python 3",
   "language": "python",
   "name": "python3"
  },
  "language_info": {
   "codemirror_mode": {
    "name": "ipython",
    "version": 3
   },
   "file_extension": ".py",
   "mimetype": "text/x-python",
   "name": "python",
   "nbconvert_exporter": "python",
   "pygments_lexer": "ipython3",
   "version": "3.8.7"
  }
 },
 "nbformat": 4,
 "nbformat_minor": 5
}
