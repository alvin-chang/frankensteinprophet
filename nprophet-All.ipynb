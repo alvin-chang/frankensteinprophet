{
 "cells": [
  {
   "cell_type": "code",
   "execution_count": null,
   "metadata": {},
   "outputs": [],
   "source": [
    "# load libraries\n",
    "import defs\n",
    "import multiprocessing as mp\n",
    "import matplotlib.pyplot as plt\n",
    "import numpy as np\n",
    "import pandas as pd\n",
    "import time as t"
   ]
  },
  {
   "cell_type": "code",
   "execution_count": null,
   "metadata": {},
   "outputs": [],
   "source": [
    "# set plots\n",
    "%matplotlib inline\n",
    " \n",
    "plt.rcParams['figure.figsize']=(20,10)\n",
    "plt.style.use('ggplot')"
   ]
  },
  {
   "cell_type": "code",
   "execution_count": null,
   "metadata": {},
   "outputs": [],
   "source": [
    "# get tickers\n",
    "tickers = []\n",
    "\n",
    "#get file object\n",
    "f = open(\"list\", \"r\")\n",
    "\n",
    "while(True):\n",
    "    #read next line\n",
    "    line = f.readline()\n",
    "    #if line is empty, you are done with all lines in the file\n",
    "    if not line:\n",
    "        break\n",
    "    #you can access the line\n",
    "    tickers.append(line.strip())\n",
    "\n",
    "#close file\n",
    "f.close()"
   ]
  },
  {
   "cell_type": "code",
   "execution_count": null,
   "metadata": {},
   "outputs": [],
   "source": [
    "# calculates\n",
    "manager = mp.Manager()\n",
    "market_dfset=manager.dict()\n",
    "modelset=manager.dict()\n",
    "forecastset=manager.dict()\n",
    "\n",
    "p = {}\n",
    "for ticker in tickers:\n",
    "    p[ticker]= mp.Process(target=defs.run_neuralprophet,args=(ticker,market_dfset,modelset,forecastset))\n",
    "    \n",
    "l = len(tickers)\n",
    "c = mp.cpu_count()\n",
    "for i in range(0, l, c):\n",
    "    for j in range(0,c):\n",
    "        if (i+j<l):\n",
    "            p[tickers[i+j]].start()\n",
    "    for j in range(0,c):\n",
    "        if (i+j<l): p[tickers[i+j]].join()\n",
    "            \n",
    "print(market_dfset)"
   ]
  },
  {
   "cell_type": "code",
   "execution_count": null,
   "metadata": {},
   "outputs": [],
   "source": [
    "# show graphs\n",
    "figureset = {}\n",
    "legendset = {}\n",
    "for ticker in tickers:\n",
    "    figureset[ticker] = market_dfset[ticker][\"Close\"].plot()\n",
    "    legendset[ticker]=figureset[ticker].legend() #get the legend\n",
    "    legendset[ticker].get_texts()[0].set_text(ticker) #change the legend text\n",
    "    plt.show()\n",
    "    \n",
    "for ticker in tickers:\n",
    "    n=3650\n",
    "    print(ticker)\n",
    "    print(forecastset[ticker])\n",
    "    figure=modelset[ticker].plot(forecastset[ticker])  \n",
    "    fig_param = modelset[ticker].plot_parameters()\n",
    "    plt.show()\n",
    "    print('\\n')"
   ]
  },
  {
   "cell_type": "code",
   "execution_count": null,
   "metadata": {},
   "outputs": [],
   "source": [
    "# merge the sets\n",
    "full_dfset = {}\n",
    "for ticker in tickers:\n",
    "    full_dfset[ticker] = forecastset[ticker].set_index('ds').join(market_dfset[ticker])\n",
    "    print(full_dfset[ticker])"
   ]
  },
  {
   "cell_type": "code",
   "execution_count": null,
   "metadata": {},
   "outputs": [],
   "source": [
    "# plot the future\n",
    "for ticker in tickers:\n",
    "    fig, ax1 = plt.subplots()\n",
    "    n=3 + 7\n",
    "    d=7 + 3\n",
    "    modelset[ticker].plot(forecastset[ticker])\n",
    "    #ax1.plot(modelset[ticker][modelset[ticker].last_valid_index()-pd.DateOffset(n, 'D'):modelset[ticker].last_valid_index()-pd.DateOffset(n-d, 'D')], color='grey', linestyle=':')\n",
    "    #ax1.plot(modelset[ticker][modelset[ticker].last_valid_index()-pd.DateOffset(n, 'D'):modelset[ticker].last_valid_index()-pd.DateOffset(n-d, 'D')].Close, color='red', linestyle='-')\n",
    "#    ax1.plot(full_dfset[ticker].tail(n).yhat183, color='black', linestyle='--')\n",
    "#    ax1.plot(full_dfset[ticker].tail(n).yhat365, color='black', linestyle='-.')\n",
    "#    ax1.fill_between(full_dfset[ticker].tail(n).index, full_dfset[ticker]['yhat2'].tail(n), full_dfset[ticker]['yhat3'].tail(n), alpha=0.5, color='darkgray')\n",
    "    ax1.set_title(ticker)\n",
    "    ax1.set_ylabel('Price')\n",
    "    ax1.set_xlabel('Date')\n",
    "    plt.show()"
   ]
  },
  {
   "cell_type": "code",
   "execution_count": null,
   "metadata": {},
   "outputs": [],
   "source": [
    "# write out\n",
    "for ticker in tickers:\n",
    "    n = 365\n",
    "    full_dfset[ticker].tail(n).to_csv(ticker+'-'+str(n)+'-nprophet-Days.csv')"
   ]
  },
  {
   "cell_type": "code",
   "execution_count": null,
   "metadata": {},
   "outputs": [],
   "source": []
  }
 ],
 "metadata": {
  "kernelspec": {
   "display_name": "Python 3",
   "language": "python",
   "name": "python3"
  },
  "language_info": {
   "codemirror_mode": {
    "name": "ipython",
    "version": 3
   },
   "file_extension": ".py",
   "mimetype": "text/x-python",
   "name": "python",
   "nbconvert_exporter": "python",
   "pygments_lexer": "ipython3",
   "version": "3.8.5"
  }
 },
 "nbformat": 4,
 "nbformat_minor": 4
}
