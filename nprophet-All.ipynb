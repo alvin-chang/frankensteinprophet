{
 "cells": [
  {
   "cell_type": "code",
   "execution_count": null,
   "metadata": {},
   "outputs": [],
   "source": [
    "# load libraries\n",
    "import defs\n",
    "import multiprocessing as mp\n",
    "import matplotlib.pyplot as plt\n",
    "import numpy as np\n",
    "import pandas as pd\n",
    "import time as t"
   ]
  },
  {
   "cell_type": "code",
   "execution_count": null,
   "metadata": {},
   "outputs": [],
   "source": [
    "# set plots\n",
    "%matplotlib inline\n",
    " \n",
    "plt.rcParams['figure.figsize']=(20,10)\n",
    "plt.style.use('ggplot')"
   ]
  },
  {
   "cell_type": "code",
   "execution_count": null,
   "metadata": {},
   "outputs": [],
   "source": [
    "# get tickers\n",
    "tickers = []\n",
    "manager = mp.Manager()\n",
    "tickers = manager.list()\n",
    "\n",
    "#get file object\n",
    "f = open(\"list\", \"r\")\n",
    "\n",
    "while(True):\n",
    "    #read next line\n",
    "    line = f.readline()\n",
    "    #if line is empty, you are done with all lines in the file\n",
    "    if not line:\n",
    "        break\n",
    "    #you can access the line\n",
    "    tickers.append(line.strip())\n",
    "\n",
    "#close file\n",
    "f.close()"
   ]
  },
  {
   "cell_type": "code",
   "execution_count": null,
   "metadata": {},
   "outputs": [],
   "source": [
    "# calculates\n",
    "\n",
    "market_dfset=manager.dict()\n",
    "modelset=manager.dict()\n",
    "forecastset=manager.dict()\n",
    "\n",
    "p = {}\n",
    "for ticker in tickers:\n",
    "    p[ticker]= mp.Process(target=defs.run_neuralprophet,args=(tickers,ticker,market_dfset,modelset,forecastset))\n",
    "    \n",
    "l = len(tickers)\n",
    "c = mp.cpu_count()\n",
    "for i in range(0, l, c):\n",
    "    for j in range(0,c):\n",
    "        if (i+j<l):\n",
    "            p[tickers[i+j]].start()\n",
    "    for j in range(0,c):\n",
    "        t.sleep(0.2)\n",
    "        if (i+j<l): p[tickers[i+j]].join()"
   ]
  },
  {
   "cell_type": "code",
   "execution_count": null,
   "metadata": {},
   "outputs": [],
   "source": [
    "# show graphs\n",
    "figureset = {}\n",
    "legendset = {}\n",
    "for ticker in tickers:\n",
    "    print(ticker)\n",
    "    figureset[ticker] = market_dfset[ticker][\"Close\"].plot()\n",
    "    legendset[ticker]=figureset[ticker].legend() #get the legend\n",
    "    legendset[ticker].get_texts()[0].set_text(ticker) #change the legend text\n",
    "    plt.show()"
   ]
  },
  {
   "cell_type": "code",
   "execution_count": null,
   "metadata": {},
   "outputs": [],
   "source": [
    "for ticker in tickers:\n",
    "    n=3650\n",
    "    print(ticker)\n",
    "    figure=modelset[ticker].plot(forecastset[ticker])\n",
    "    fig_param = modelset[ticker].plot_parameters()\n",
    "    plt.show()\n",
    "    print('\\n')"
   ]
  },
  {
   "cell_type": "code",
   "execution_count": null,
   "metadata": {},
   "outputs": [],
   "source": [
    "# merge the sets\n",
    "full_dfset = {}\n",
    "for ticker in tickers:\n",
    "    full_dfset[ticker] = forecastset[ticker].set_index('ds').join(market_dfset[ticker])"
   ]
  },
  {
   "cell_type": "code",
   "execution_count": null,
   "metadata": {},
   "outputs": [],
   "source": [
    "# plot the future\n",
    "for ticker in tickers:\n",
    "    print(ticker)\n",
    "    modelset[ticker].plot(forecastset[ticker].tail(n=60))\n",
    "    plt.show()\n",
    "    last = 30\n",
    "    yhat = []\n",
    "    for i in range(1,last):\n",
    "        l = len(full_dfset[ticker])\n",
    "        hat = 'yhat'+str(i)\n",
    "        yhat.insert(i-1, full_dfset[ticker][hat][l-last+i-1])\n",
    "    print(max(yhat))\n",
    "    print(min(yhat))\n",
    "    print('\\n')"
   ]
  },
  {
   "cell_type": "code",
   "execution_count": null,
   "metadata": {},
   "outputs": [],
   "source": [
    "# write out\n",
    "for ticker in tickers:\n",
    "    n = 30\n",
    "    full_dfset[ticker].tail(n).to_csv(ticker+'-'+str(n)+'-nprophet-Days.csv')"
   ]
  },
  {
   "cell_type": "code",
   "execution_count": null,
   "metadata": {},
   "outputs": [],
   "source": []
  }
 ],
 "metadata": {
  "kernelspec": {
   "display_name": "Python 3",
   "language": "python",
   "name": "python3"
  },
  "language_info": {
   "codemirror_mode": {
    "name": "ipython",
    "version": 3
   },
   "file_extension": ".py",
   "mimetype": "text/x-python",
   "name": "python",
   "nbconvert_exporter": "python",
   "pygments_lexer": "ipython3",
   "version": "3.8.7"
  }
 },
 "nbformat": 4,
 "nbformat_minor": 4
}
